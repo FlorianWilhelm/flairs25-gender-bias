{
 "cells": [
  {
   "cell_type": "code",
   "execution_count": 17,
   "metadata": {},
   "outputs": [
    {
     "name": "stdout",
     "output_type": "stream",
     "text": [
      "The autoreload extension is already loaded. To reload it, use:\n",
      "  %reload_ext autoreload\n"
     ]
    }
   ],
   "source": [
    "import seaborn as sns\n",
    "import pandas as pd\n",
    "from pathlib import Path\n",
    "import sys\n",
    "from logging import basicConfig, INFO\n",
    "import ray\n",
    "import pickle\n",
    "import ipywidgets as widgets\n",
    "from IPython.display import display\n",
    "import matplotlib.pyplot as plt\n",
    "import matplotlib as mpl\n",
    "\n",
    "from simulation import *\n",
    "\n",
    "%load_ext autoreload\n",
    "%autoreload 2\n",
    "\n",
    "mpl.rcParams.update({\n",
    "    \"text.usetex\": True,\n",
    "    \"font.family\": \"serif\",\n",
    "    \"font.serif\": [\"Palatino\"],  # Or Times, Computer Modern\n",
    "})"
   ]
  },
  {
   "cell_type": "markdown",
   "metadata": {},
   "source": [
    "# Evaluation"
   ]
  },
  {
   "cell_type": "code",
   "execution_count": 18,
   "metadata": {},
   "outputs": [],
   "source": [
    "import os\n",
    "import pandas as pd\n",
    "\n",
    "subdir = Path('./sims_v4')\n",
    "dataframes = [pd.read_csv(csv) for csv in subdir.glob(\"*.csv\")]\n",
    "df = pd.concat(dataframes, ignore_index=True)"
   ]
  },
  {
   "cell_type": "code",
   "execution_count": 19,
   "metadata": {},
   "outputs": [],
   "source": [
    "def add_util_perc(df: pd.DataFrame, col: str) -> pd.DataFrame:\n",
    "    df = df.copy()\n",
    "    for bias in df['gender_bias'].unique():\n",
    "        mask = (df['quota'] == QuotaType.NONE.name) & (df['gender_bias'] == bias)\n",
    "        none_util = df[mask].set_index('id')[col]\n",
    "        df.loc[df['gender_bias'] == bias, f'{col}_perc_bias'] = df[col] / df['id'].map(none_util)\n",
    "    return df\n",
    "\n",
    "# Apply the function to add the new column\n",
    "df = add_util_perc(df, 'total_util')\n",
    "df = add_util_perc(df, 'g0_util')\n",
    "df = add_util_perc(df, 'g1_util')"
   ]
  },
  {
   "cell_type": "markdown",
   "metadata": {},
   "source": [
    "# Visualisation"
   ]
  },
  {
   "cell_type": "code",
   "execution_count": null,
   "metadata": {},
   "outputs": [
    {
     "data": {
      "application/vnd.jupyter.widget-view+json": {
       "model_id": "4e490c818a5243118010a64f6b64922e",
       "version_major": 2,
       "version_minor": 0
      },
      "text/plain": [
       "HBox(children=(Dropdown(description='n_positions', options=(np.int64(5), np.int64(10)), value=np.int64(5)), Dr…"
      ]
     },
     "metadata": {},
     "output_type": "display_data"
    },
    {
     "data": {
      "application/vnd.jupyter.widget-view+json": {
       "model_id": "8a69a4d101e94d1dabe1d7afbd0a6b19",
       "version_major": 2,
       "version_minor": 0
      },
      "text/plain": [
       "Output()"
      ]
     },
     "metadata": {},
     "output_type": "display_data"
    }
   ],
   "source": [
    "filters = ['n_positions','n_persons', 'gender_bias', 'total_cap', 'alpha_caps', 'alpha_prefs']\n",
    "targets = ['total_util_perc', 'g0_util_perc', 'g1_util_perc']\n",
    "\n",
    "\n",
    "def visualise(df):\n",
    "    df_melted = df.melt(id_vars=[\"tvd\", \"quota\"], value_vars=targets, var_name=\"target\", value_name=\"value\")\n",
    "    df_melted[~(np.isfinite(df_melted[\"tvd\"]) & np.isfinite(df_melted[\"value\"]))] = 100  # high number for infinity.\n",
    "    \n",
    "    custom_titles = {'EQU50': r'Quota: $q = 50\\%$', \n",
    "                     'GTE40': r'Quota: $q\\geq 40\\%$', \n",
    "                     'GTE30': r'Quota $q\\geq 30\\%$', \n",
    "                     'GTE20': r'Quota: $q\\geq 20\\%$', \n",
    "                     'NONE': r'Quota: $q\\geq0\\%$', \n",
    "                     'PREF': r'Quota: $q_{\\mathrm{pref}}$'}\n",
    "\n",
    "    custom_legend_labels = {\n",
    "        \"total_util_perc\": \"Total relative efficiency\",\n",
    "        \"g0_util_perc\": \"Relative efficiency males\",\n",
    "        \"g1_util_perc\": \"Relative efficiency females\",\n",
    "    }\n",
    "\n",
    "    # Plot with FacetGrid\n",
    "    g = sns.FacetGrid(df_melted, col=\"quota\", hue=\"target\", palette=\"Set2\", col_wrap=2, height=4, aspect=1 ,margin_titles=True)\n",
    "    # g.map(sns.regplot, \"tvd\", \"value\", scatter_kws={'alpha': 0.5}, ci=None, robust=True)\n",
    "    g.map(sns.scatterplot, \"tvd\", \"value\", alpha=0.5)  # Scatter plot for legend\n",
    "    g.map(sns.regplot, \"tvd\", \"value\", scatter=False, ci=None, robust=True)  # Regression line without scatter\n",
    "    g.fig.subplots_adjust(hspace=0.4, wspace=0.3)\n",
    "\n",
    "    # Customize y-axis limits\n",
    "    spread = 1.1\n",
    "    y_min = df_melted['value'].quantile(0.05) / spread\n",
    "    y_max = df_melted['value'].quantile(0.95) * spread\n",
    "    g.set(ylim=(y_min, y_max))\n",
    "\n",
    "    # Set custom titles for each subplot\n",
    "    g.set_titles(template=\"{col_name}\", size=16)\n",
    "    for ax, col_value in zip(g.axes.flat, g.col_names):\n",
    "        if col_value in custom_titles:\n",
    "            ax.set_title(custom_titles[col_value], fontsize=16)\n",
    "\n",
    "    # Set axis labels\n",
    "    g.set_axis_labels(\n",
    "        r\"$\\textrm{TVD}$\", r\"$\\textrm{Relative Efficiency}$\", fontsize=18\n",
    "    )\n",
    "\n",
    "    # Increase tick label sizes and restore tick labels if missing\n",
    "    for ax in g.axes.flat:\n",
    "        ax.tick_params(axis='x', labelsize=14)\n",
    "        ax.tick_params(axis='y', labelsize=14)\n",
    "        ax.xaxis.set_major_locator(plt.MaxNLocator(5))  # Adjust number of ticks\n",
    "        ax.yaxis.set_major_locator(plt.MaxNLocator(5))  # Adjust number of ticks\n",
    "\n",
    "    handles, labels = g.axes.flat[0].get_legend_handles_labels()\n",
    "    line_handles = [handle for handle in handles if isinstance(handle, mpl.lines.Line2D)]  # Only lines\n",
    "    scatter_handles = [handle for handle in handles if isinstance(handle, mpl.lines.Line2D)]  # Only scatter\n",
    "    new_labels = [custom_legend_labels.get(label, label) for label in labels[:len(line_handles)]]\n",
    "    g.fig.legend(\n",
    "        line_handles,\n",
    "        new_labels,\n",
    "        title=\"\",\n",
    "        title_fontsize=14,\n",
    "        fontsize=14,\n",
    "        loc='lower center',\n",
    "        bbox_to_anchor=(0.49, -0.05),\n",
    "        ncol=3,\n",
    "        frameon=False,\n",
    "        handletextpad=0.5,\n",
    "        columnspacing=0.8\n",
    "    )\n",
    "    sns.despine(offset=10, trim=True)\n",
    "    plt.savefig('./scatter_plot.pdf', format='pdf', bbox_inches='tight')\n",
    "    plt.show()\n",
    "\n",
    "\n",
    "def filter_and_visualize(**kwargs):\n",
    "    filtered_df = df.copy()\n",
    "\n",
    "    for key, value in kwargs.items():\n",
    "        filtered_df = filtered_df[filtered_df[key] == value]\n",
    "    \n",
    "    # Show visualization\n",
    "    if not filtered_df.empty:\n",
    "        visualise(filtered_df)\n",
    "    else:\n",
    "        print(\"No data matches the filter criteria.\")\n",
    "\n",
    "dropdowns = {col: widgets.Dropdown(options=sorted(df[col].unique()), description=col) for col in filters}\n",
    "\n",
    "# Link widgets to the output\n",
    "ui = widgets.HBox(list(dropdowns.values()))\n",
    "out = widgets.interactive_output(filter_and_visualize, dropdowns)\n",
    "\n",
    "# Display widgets and output\n",
    "display(ui, out)"
   ]
  },
  {
   "cell_type": "code",
   "execution_count": null,
   "metadata": {},
   "outputs": [],
   "source": []
  }
 ],
 "metadata": {
  "kernelspec": {
   "display_name": "default",
   "language": "python",
   "name": "python3"
  },
  "language_info": {
   "codemirror_mode": {
    "name": "ipython",
    "version": 3
   },
   "file_extension": ".py",
   "mimetype": "text/x-python",
   "name": "python",
   "nbconvert_exporter": "python",
   "pygments_lexer": "ipython3",
   "version": "3.12.8"
  }
 },
 "nbformat": 4,
 "nbformat_minor": 4
}
