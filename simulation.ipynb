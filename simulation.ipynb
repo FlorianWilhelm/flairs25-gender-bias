{
 "cells": [
  {
   "cell_type": "code",
   "execution_count": 25,
   "metadata": {},
   "outputs": [
    {
     "name": "stdout",
     "output_type": "stream",
     "text": [
      "The autoreload extension is already loaded. To reload it, use:\n",
      "  %reload_ext autoreload\n"
     ]
    }
   ],
   "source": [
    "import seaborn as sns\n",
    "import pandas as pd\n",
    "from pathlib import Path\n",
    "import sys\n",
    "from logging import basicConfig, INFO\n",
    "import ray\n",
    "import pickle\n",
    "import ipywidgets as widgets\n",
    "from IPython.display import display\n",
    "import matplotlib.pyplot as plt\n",
    "import matplotlib as mpl\n",
    "\n",
    "from simulation import *\n",
    "\n",
    "%load_ext autoreload\n",
    "%autoreload 2\n",
    "\n",
    "mpl.rcParams.update({\n",
    "    \"text.usetex\": True,\n",
    "    \"font.family\": \"serif\",\n",
    "    \"font.serif\": [\"Palatino\"],  # Or Times, Computer Modern\n",
    "})"
   ]
  },
  {
   "cell_type": "markdown",
   "metadata": {},
   "source": [
    "# Testing"
   ]
  },
  {
   "cell_type": "code",
   "execution_count": 26,
   "metadata": {},
   "outputs": [
    {
     "name": "stdout",
     "output_type": "stream",
     "text": [
      "Running simulation with params: %s {'alpha_prefs': 1, 'alpha_caps': 5, 'n_positions': 10, 'n_persons': 100, 'total_cap': 50, 'n_sims': 3, 'rng': Generator(PCG64) at 0x30E708BA0}\n"
     ]
    },
    {
     "data": {
      "application/vnd.jupyter.widget-view+json": {
       "model_id": "6d9c6909fedd4770982e99ec7067a302",
       "version_major": 2,
       "version_minor": 0
      },
      "text/plain": [
       "Simulations:   0%|          | 0/108 [00:00<?, ?it/s]"
      ]
     },
     "metadata": {},
     "output_type": "display_data"
    }
   ],
   "source": [
    "alpha_prefs = 1\n",
    "alpha_caps = 5\n",
    "n_positions = 10\n",
    "n_persons = 100\n",
    "total_cap = 50\n",
    "n_simulations = 3\n",
    "sims = run_simulation(alpha_prefs=alpha_prefs, alpha_caps= alpha_caps, n_positions=n_positions, n_persons= n_persons, total_cap= total_cap, n_sims=n_simulations)\n"
   ]
  },
  {
   "cell_type": "code",
   "execution_count": 27,
   "metadata": {},
   "outputs": [],
   "source": [
    "df = make_df(sims)"
   ]
  },
  {
   "cell_type": "markdown",
   "metadata": {},
   "source": [
    "# Evaluation"
   ]
  },
  {
   "cell_type": "code",
   "execution_count": 28,
   "metadata": {},
   "outputs": [],
   "source": [
    "import os\n",
    "import pandas as pd\n",
    "\n",
    "subdir = Path('./sims_v3')\n",
    "dataframes = [pd.read_csv(csv) for csv in subdir.glob(\"*.csv\")]\n",
    "df = pd.concat(dataframes, ignore_index=True)"
   ]
  },
  {
   "cell_type": "markdown",
   "metadata": {},
   "source": [
    "# Visualisation"
   ]
  },
  {
   "cell_type": "code",
   "execution_count": 29,
   "metadata": {},
   "outputs": [
    {
     "data": {
      "application/vnd.jupyter.widget-view+json": {
       "model_id": "31f0ad4efa814a59988663a59318210b",
       "version_major": 2,
       "version_minor": 0
      },
      "text/plain": [
       "HBox(children=(Dropdown(description='n_roles', options=(np.int64(3), np.int64(5), np.int64(10), np.int64(20)),…"
      ]
     },
     "metadata": {},
     "output_type": "display_data"
    },
    {
     "data": {
      "application/vnd.jupyter.widget-view+json": {
       "model_id": "6c73792f123a430ebe644d853f148aa2",
       "version_major": 2,
       "version_minor": 0
      },
      "text/plain": [
       "Output()"
      ]
     },
     "metadata": {},
     "output_type": "display_data"
    }
   ],
   "source": [
    "filters = [\n",
    "    'n_roles',\n",
    "    'n_persons',\n",
    "    'gender_bias',\n",
    "    'total_cap',\n",
    "    'alpha_caps',\n",
    "    'alpha_prefs'\n",
    "]\n",
    "\n",
    "def visualise(df, target):\n",
    "    sns.lmplot(data=df, x=\"tvd\", y=target, hue=\"quota\", palette=\"Set2\", height=4, col=\"quota\", col_wrap=2, aspect=1)\n",
    "    plt.show()\n",
    "\n",
    "def filter_and_visualize(target, **kwargs):\n",
    "    filtered_df = df.copy()\n",
    "\n",
    "    for key, value in kwargs.items():\n",
    "        filtered_df = filtered_df[filtered_df[key] == value]\n",
    "    \n",
    "    # Show visualization\n",
    "    if not filtered_df.empty:\n",
    "        visualise(filtered_df, target)\n",
    "    else:\n",
    "        print(\"No data matches the filter criteria.\")\n",
    "\n",
    "dropdowns = {col: widgets.Dropdown(options=sorted(df[col].unique()), description=col) for col in filters}\n",
    "dropdowns['target'] = widgets.Dropdown(options=['total_util_perc', 'total_util', 'g0_util_perc'], description='target') \n",
    "\n",
    "# Link widgets to the output\n",
    "ui = widgets.HBox(list(dropdowns.values()))\n",
    "out = widgets.interactive_output(filter_and_visualize, dropdowns)\n",
    "\n",
    "# Display widgets and output\n",
    "display(ui, out)"
   ]
  },
  {
   "cell_type": "code",
   "execution_count": 30,
   "metadata": {},
   "outputs": [
    {
     "data": {
      "application/vnd.jupyter.widget-view+json": {
       "model_id": "3f5b10432dff4f30ae3fdabcf93ffd79",
       "version_major": 2,
       "version_minor": 0
      },
      "text/plain": [
       "HBox(children=(Dropdown(description='n_roles', options=(np.int64(3), np.int64(5), np.int64(10), np.int64(20)),…"
      ]
     },
     "metadata": {},
     "output_type": "display_data"
    },
    {
     "data": {
      "application/vnd.jupyter.widget-view+json": {
       "model_id": "be2cad9ea94746dd80715ca5f812a524",
       "version_major": 2,
       "version_minor": 0
      },
      "text/plain": [
       "Output()"
      ]
     },
     "metadata": {},
     "output_type": "display_data"
    }
   ],
   "source": [
    "filters = [\n",
    "    'n_roles',\n",
    "    'n_persons',\n",
    "    'gender_bias',\n",
    "    'total_cap',\n",
    "    'alpha_caps',\n",
    "    'alpha_prefs'\n",
    "]\n",
    "targets = ['total_util_perc', 'g0_util_perc', 'g1_util_perc']\n",
    "#targets = ['total_util', 'g0_util', 'g1_util']\n",
    "\n",
    "def visualise(df):\n",
    "    df_melted = df.melt(id_vars=[\"tvd\", \"quota\"], value_vars=targets, var_name=\"target\", value_name=\"value\")\n",
    "    #df_melted = df_melted.dropna(subset=[\"tvd\", \"value\"])\n",
    "    df_melted[~(np.isfinite(df_melted[\"tvd\"]) & np.isfinite(df_melted[\"value\"]))] = 100 # high number of infinity. \n",
    "    \n",
    "    # Plot with FacetGrid\n",
    "    g = sns.FacetGrid(df_melted, col=\"quota\", hue=\"target\", palette=\"Set2\", col_wrap=2, height=4, aspect=1)\n",
    "    g.map(sns.regplot, \"tvd\", \"value\", scatter_kws={'alpha':0.5}, ci=None, robust=True)\n",
    "    #g.map(sns.scatterplot, \"tvd\", \"value\", alpha=0.5)\n",
    "    g.add_legend()\n",
    "    spread = 1.1\n",
    "    y_min = df_melted['value'].quantile(0.05)/spread\n",
    "    y_max = df_melted['value'].quantile(0.95)*spread\n",
    "    g.set(ylim=(y_min, y_max))\n",
    "    plt.show()\n",
    "\n",
    "def filter_and_visualize(**kwargs):\n",
    "    filtered_df = df.copy()\n",
    "\n",
    "    for key, value in kwargs.items():\n",
    "        filtered_df = filtered_df[filtered_df[key] == value]\n",
    "    \n",
    "    # Show visualization\n",
    "    if not filtered_df.empty:\n",
    "        visualise(filtered_df)\n",
    "    else:\n",
    "        print(\"No data matches the filter criteria.\")\n",
    "\n",
    "dropdowns = {col: widgets.Dropdown(options=sorted(df[col].unique()), description=col) for col in filters}\n",
    "\n",
    "# Link widgets to the output\n",
    "ui = widgets.HBox(list(dropdowns.values()))\n",
    "out = widgets.interactive_output(filter_and_visualize, dropdowns)\n",
    "\n",
    "# Display widgets and output\n",
    "display(ui, out)"
   ]
  },
  {
   "cell_type": "markdown",
   "metadata": {},
   "source": [
    "## Plot"
   ]
  },
  {
   "cell_type": "code",
   "execution_count": 31,
   "metadata": {},
   "outputs": [
    {
     "data": {
      "application/vnd.jupyter.widget-view+json": {
       "model_id": "18a3580dac204eb99cd8a60e52b8b5a2",
       "version_major": 2,
       "version_minor": 0
      },
      "text/plain": [
       "HBox(children=(Dropdown(description='n_roles', options=(np.int64(3), np.int64(5), np.int64(10), np.int64(20)),…"
      ]
     },
     "metadata": {},
     "output_type": "display_data"
    },
    {
     "data": {
      "application/vnd.jupyter.widget-view+json": {
       "model_id": "f41e165fdfa14de790d746deea857eca",
       "version_major": 2,
       "version_minor": 0
      },
      "text/plain": [
       "Output()"
      ]
     },
     "metadata": {},
     "output_type": "display_data"
    }
   ],
   "source": [
    "filters = [\n",
    "    'n_roles',\n",
    "    'n_persons',\n",
    "    'total_cap',\n",
    "]\n",
    "targets = ['total_util_perc', 'g0_util_perc', 'g1_util_perc']\n",
    "#targets = ['total_util', 'g0_util', 'g1_util']\n",
    "\n",
    "def visualise(df, target):\n",
    "    df_violin = df[['id', 'quota', 'gender_bias', target]]\n",
    "    df_violin = df_violin.set_index(['id', 'quota'])\n",
    "    df_violin = df_violin.pivot(columns='gender_bias', values=target)\n",
    "    df_violin = df_violin[['NONE', 'LOW', 'MEDIUM', 'HIGH', 'VERY_HIGH', 'EXTREME']]\n",
    "    sns.violinplot(data=df_violin, bw_adjust=.5, cut=1, linewidth=1, palette=\"Set3\")\n",
    "    plt.ylim(0.6, 1.1)\n",
    "    plt.show()\n",
    "\n",
    "def filter_and_visualize(**kwargs):\n",
    "    target = kwargs.pop('target')\n",
    "    tvd = kwargs.pop('tvd')\n",
    "    tvd_dir = kwargs.pop('tvd_dir')\n",
    "    filtered_df = df.copy()\n",
    "\n",
    "    if tvd_dir == 'UP':\n",
    "        filtered_df = filtered_df[filtered_df['tvd'] >= float(tvd)]\n",
    "    else:\n",
    "        filtered_df = filtered_df[filtered_df['tvd'] <= float(tvd)]\n",
    "\n",
    "    for key, value in kwargs.items():\n",
    "        filtered_df = filtered_df[filtered_df[key] == value]\n",
    "    \n",
    "    # Show visualization\n",
    "    if not filtered_df.empty:\n",
    "        visualise(filtered_df, target)\n",
    "    else:\n",
    "        print(\"No data matches the filter criteria.\")\n",
    "\n",
    "dropdowns = {col: widgets.Dropdown(options=sorted(df[col].unique()), description=col) for col in filters}\n",
    "dropdowns['target'] = widgets.Dropdown(options=targets, description='target')\n",
    "dropdowns['quota'] = widgets.Dropdown(options=['NONE', 'GTE20', 'GTE30', 'GTE40', 'EQU50'], description='quota')\n",
    "dropdowns['tvd'] = widgets.Dropdown(options=['0.0', '0.1', '0.2', '0.3', '0.4', '0.5', '0.6', '0.7', '0.8', '0.9', '1.0'], description='tvd')\n",
    "dropdowns['tvd_dir'] = widgets.Dropdown(options=['UP', 'DOWN'], description='tvd_dir')\n",
    "\n",
    "# Link widgets to the output\n",
    "ui = widgets.HBox(list(dropdowns.values()))\n",
    "out = widgets.interactive_output(filter_and_visualize, dropdowns)\n",
    "\n",
    "# Display widgets and output\n",
    "display(ui, out)"
   ]
  }
 ],
 "metadata": {
  "kernelspec": {
   "display_name": "default",
   "language": "python",
   "name": "python3"
  },
  "language_info": {
   "codemirror_mode": {
    "name": "ipython",
    "version": 3
   },
   "file_extension": ".py",
   "mimetype": "text/x-python",
   "name": "python",
   "nbconvert_exporter": "python",
   "pygments_lexer": "ipython3",
   "version": "3.12.8"
  }
 },
 "nbformat": 4,
 "nbformat_minor": 4
}
