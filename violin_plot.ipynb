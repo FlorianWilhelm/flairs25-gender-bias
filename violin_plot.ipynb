{
 "cells": [
  {
   "cell_type": "code",
   "execution_count": 1,
   "metadata": {},
   "outputs": [],
   "source": [
    "import seaborn as sns\n",
    "import pandas as pd\n",
    "from pathlib import Path\n",
    "import sys\n",
    "from logging import basicConfig, INFO\n",
    "import ray\n",
    "import pickle\n",
    "import ipywidgets as widgets\n",
    "from IPython.display import display\n",
    "import matplotlib.pyplot as plt\n",
    "import matplotlib as mpl\n",
    "\n",
    "from simulation import *\n",
    "\n",
    "%load_ext autoreload\n",
    "%autoreload 2\n",
    "\n",
    "mpl.rcParams.update({\n",
    "    \"text.usetex\": True,\n",
    "    \"font.family\": \"serif\",\n",
    "    \"font.serif\": [\"Palatino\"],  # Or Times, Computer Modern\n",
    "})"
   ]
  },
  {
   "cell_type": "markdown",
   "metadata": {},
   "source": [
    "# Evaluation"
   ]
  },
  {
   "cell_type": "code",
   "execution_count": 2,
   "metadata": {},
   "outputs": [],
   "source": [
    "import os\n",
    "import pandas as pd\n",
    "\n",
    "subdir = Path('./sims_v4')\n",
    "dataframes = [pd.read_csv(csv) for csv in subdir.glob(\"*.csv\")]\n",
    "df = pd.concat(dataframes, ignore_index=True)"
   ]
  },
  {
   "cell_type": "code",
   "execution_count": 3,
   "metadata": {},
   "outputs": [],
   "source": [
    "def add_util_perc(df: pd.DataFrame, col: str) -> pd.DataFrame:\n",
    "    df = df.copy()\n",
    "    for bias in df['gender_bias'].unique():\n",
    "        mask = (df['quota'] == QuotaType.NONE.name) & (df['gender_bias'] == bias)\n",
    "        none_util = df[mask].set_index('id')[col]\n",
    "        df.loc[df['gender_bias'] == bias, f'{col}_perc_bias'] = df[col] / df['id'].map(none_util)\n",
    "    return df\n",
    "\n",
    "# Apply the function to add the new column\n",
    "df = add_util_perc(df, 'total_util')\n",
    "df = add_util_perc(df, 'g0_util')\n",
    "df = add_util_perc(df, 'g1_util')"
   ]
  },
  {
   "cell_type": "markdown",
   "metadata": {},
   "source": [
    "# Visualisation"
   ]
  },
  {
   "cell_type": "code",
   "execution_count": 4,
   "metadata": {},
   "outputs": [],
   "source": [
    "def filter(x):\n",
    "    if x >= 0.8:\n",
    "        return 'high'\n",
    "    elif x <= 0.2:\n",
    "        return 'low'\n",
    "    else:\n",
    "        return 'medium'\n",
    "\n",
    "df['tvd_class'] = df['tvd'].apply(filter)\n",
    "df = df.loc[df['tvd_class'] != 'medium']"
   ]
  },
  {
   "cell_type": "code",
   "execution_count": 26,
   "metadata": {},
   "outputs": [
    {
     "data": {
      "application/vnd.jupyter.widget-view+json": {
       "model_id": "58d1770e10904fdf9cbb0aeb389b5287",
       "version_major": 2,
       "version_minor": 0
      },
      "text/plain": [
       "HBox(children=(Dropdown(description='n_positions', options=(np.int64(5), np.int64(10)), value=np.int64(5)), Dr…"
      ]
     },
     "metadata": {},
     "output_type": "display_data"
    },
    {
     "data": {
      "application/vnd.jupyter.widget-view+json": {
       "model_id": "b86e0585b8ae4b37b3325e269fd3ad6d",
       "version_major": 2,
       "version_minor": 0
      },
      "text/plain": [
       "Output()"
      ]
     },
     "metadata": {},
     "output_type": "display_data"
    }
   ],
   "source": [
    "df = df.loc[df['quota'] != 'GTE30']\n",
    "\n",
    "filters = [\n",
    "    'n_positions',\n",
    "    'n_persons',\n",
    "    'total_cap',\n",
    "]\n",
    "targets = ['total_util_perc', 'g0_util_perc', 'g1_util_perc', 'total_util_perc_bias', 'g0_util_perc_bias', 'g1_util_perc_bias']\n",
    "#targets = ['total_util', 'g0_util', 'g1_util']\n",
    "\n",
    "def visualise(df, target):\n",
    "    ax = sns.violinplot(data=df, x='quota', y=target, hue='tvd_class', palette=\"Set3\", split=True, inner=\"quart\", fill=True)\n",
    "    sns.despine(offset=10, trim=True)\n",
    "    plt.legend(frameon=False, fontsize=12, title=r'$\\mathrm{TVD}$', title_fontsize=14)\n",
    "    #sns.set_context(\"talk\", font_scale=10)\n",
    "    custom_tick_mapping = {'EQU50': r'$q= 50\\%$', 'GTE40': r'$q\\geq 40\\%$', 'GTE20': r'$q\\geq 20\\%$', 'NONE': r'$q\\geq0\\%$', 'PREF': r'$q\\geq\\mathbf{T}^{(f)}$'}\n",
    "    original_labels = [tick.get_text() for tick in ax.get_xticklabels()]\n",
    "    custom_labels = [custom_tick_mapping.get(label, label) for label in original_labels]\n",
    "    # Set the custom x-tick labels\n",
    "    ax.set_xticklabels(custom_labels, fontsize=18, verticalalignment='bottom')\n",
    "    for tick in ax.get_xticklabels():\n",
    "        tick.set_y(-0.07)  # Move labels slightly down\n",
    "    plt.ylabel(r\"$\\textrm{Efficiency}$\", fontsize=18)\n",
    "    plt.xlabel(r\"$\\textrm{Quota}$\", fontsize=18)\n",
    "    plt.yticks(fontsize=18)\n",
    "    plt.savefig('./violin_plot.pdf', format='pdf', bbox_inches='tight')\n",
    "    plt.show()\n",
    "\n",
    "def filter_and_visualize(**kwargs):\n",
    "    target = kwargs.pop('target')\n",
    "    tvd = kwargs.pop('tvd')\n",
    "    tvd_dir = kwargs.pop('tvd_dir')\n",
    "    filtered_df = df.copy()\n",
    "\n",
    "    if tvd_dir == 'UP':\n",
    "        filtered_df = filtered_df[filtered_df['tvd'] >= float(tvd)]\n",
    "    else:\n",
    "        filtered_df = filtered_df[filtered_df['tvd'] <= float(tvd)]\n",
    "\n",
    "    for key, value in kwargs.items():\n",
    "        filtered_df = filtered_df[filtered_df[key] == value]\n",
    "    \n",
    "    # Show visualization\n",
    "    if not filtered_df.empty:\n",
    "        visualise(filtered_df, target)\n",
    "    else:\n",
    "        print(\"No data matches the filter criteria.\")\n",
    "\n",
    "dropdowns = {col: widgets.Dropdown(options=sorted(df[col].unique()), description=col) for col in filters}\n",
    "dropdowns['target'] = widgets.Dropdown(options=targets, description='target')\n",
    "dropdowns['gender_bias'] = widgets.Dropdown(options=['NONE', 'LOW', 'MEDIUM', 'HIGH', 'VERY_HIGH', 'EXTREME'], description='gender bias')\n",
    "dropdowns['tvd'] = widgets.Dropdown(options=['0.0', '0.1', '0.2', '0.3', '0.4', '0.5', '0.6', '0.7', '0.8', '0.9', '1.0'], description='tvd')\n",
    "dropdowns['tvd_dir'] = widgets.Dropdown(options=['UP', 'DOWN'], description='tvd_dir')\n",
    "\n",
    "# Link widgets to the output\n",
    "ui = widgets.HBox(list(dropdowns.values()))\n",
    "out = widgets.interactive_output(filter_and_visualize, dropdowns)\n",
    "\n",
    "# Display widgets and output\n",
    "display(ui, out)"
   ]
  },
  {
   "cell_type": "code",
   "execution_count": 46,
   "metadata": {},
   "outputs": [
    {
     "data": {
      "text/plain": [
       "np.float64(1.0)"
      ]
     },
     "execution_count": 46,
     "metadata": {},
     "output_type": "execute_result"
    }
   ],
   "source": [
    "df[(df.quota == 'NONE') & (df.tvd_class == 'high')]['total_util_perc'].max()"
   ]
  },
  {
   "cell_type": "code",
   "execution_count": null,
   "metadata": {},
   "outputs": [],
   "source": []
  }
 ],
 "metadata": {
  "kernelspec": {
   "display_name": "default",
   "language": "python",
   "name": "python3"
  },
  "language_info": {
   "codemirror_mode": {
    "name": "ipython",
    "version": 3
   },
   "file_extension": ".py",
   "mimetype": "text/x-python",
   "name": "python",
   "nbconvert_exporter": "python",
   "pygments_lexer": "ipython3",
   "version": "3.12.8"
  }
 },
 "nbformat": 4,
 "nbformat_minor": 4
}
